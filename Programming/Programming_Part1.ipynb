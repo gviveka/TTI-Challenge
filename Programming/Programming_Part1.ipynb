{
 "cells": [
  {
   "cell_type": "code",
   "execution_count": 1,
   "metadata": {
    "collapsed": true
   },
   "outputs": [],
   "source": [
    "import pandas as pd \n",
    "from matplotlib import pyplot as plt\n",
    "import sklearn as sk\n",
    "from scipy.stats.mstats import gmean"
   ]
  },
  {
   "cell_type": "code",
   "execution_count": 2,
   "metadata": {},
   "outputs": [
    {
     "data": {
      "text/html": [
       "<div>\n",
       "<style>\n",
       "    .dataframe thead tr:only-child th {\n",
       "        text-align: right;\n",
       "    }\n",
       "\n",
       "    .dataframe thead th {\n",
       "        text-align: left;\n",
       "    }\n",
       "\n",
       "    .dataframe tbody tr th {\n",
       "        vertical-align: top;\n",
       "    }\n",
       "</style>\n",
       "<table border=\"1\" class=\"dataframe\">\n",
       "  <thead>\n",
       "    <tr style=\"text-align: right;\">\n",
       "      <th></th>\n",
       "      <th>Class\tPartNo\tX\tY</th>\n",
       "    </tr>\n",
       "  </thead>\n",
       "  <tbody>\n",
       "    <tr>\n",
       "      <th>0</th>\n",
       "      <td>AAA\\tX135\\t0.21\\t1.124</td>\n",
       "    </tr>\n",
       "    <tr>\n",
       "      <th>1</th>\n",
       "      <td>AAA\\tX126\\t0.21\\t1.179</td>\n",
       "    </tr>\n",
       "    <tr>\n",
       "      <th>2</th>\n",
       "      <td>EBHA\\tX195\\t0.32\\t1.191</td>\n",
       "    </tr>\n",
       "    <tr>\n",
       "      <th>3</th>\n",
       "      <td>EBHA\\tX194\\t0.82\\t1.249</td>\n",
       "    </tr>\n",
       "    <tr>\n",
       "      <th>4</th>\n",
       "      <td>AAA\\tX139\\t0.81\\t1.255</td>\n",
       "    </tr>\n",
       "  </tbody>\n",
       "</table>\n",
       "</div>"
      ],
      "text/plain": [
       "       Class\\tPartNo\\tX\\tY\n",
       "0   AAA\\tX135\\t0.21\\t1.124\n",
       "1   AAA\\tX126\\t0.21\\t1.179\n",
       "2  EBHA\\tX195\\t0.32\\t1.191\n",
       "3  EBHA\\tX194\\t0.82\\t1.249\n",
       "4   AAA\\tX139\\t0.81\\t1.255"
      ]
     },
     "execution_count": 2,
     "metadata": {},
     "output_type": "execute_result"
    }
   ],
   "source": [
    "programming=pd.read_csv('C:\\course work\\career\\TTI\\Programming_Part1_TTI_Challenge.csv')\n",
    "programming.head()"
   ]
  },
  {
   "cell_type": "code",
   "execution_count": 4,
   "metadata": {},
   "outputs": [
    {
     "data": {
      "text/html": [
       "<div>\n",
       "<style>\n",
       "    .dataframe thead tr:only-child th {\n",
       "        text-align: right;\n",
       "    }\n",
       "\n",
       "    .dataframe thead th {\n",
       "        text-align: left;\n",
       "    }\n",
       "\n",
       "    .dataframe tbody tr th {\n",
       "        vertical-align: top;\n",
       "    }\n",
       "</style>\n",
       "<table border=\"1\" class=\"dataframe\">\n",
       "  <thead>\n",
       "    <tr style=\"text-align: right;\">\n",
       "      <th></th>\n",
       "      <th>Class</th>\n",
       "      <th>PartNo</th>\n",
       "      <th>X</th>\n",
       "      <th>Y</th>\n",
       "    </tr>\n",
       "  </thead>\n",
       "  <tbody>\n",
       "    <tr>\n",
       "      <th>0</th>\n",
       "      <td>AAA</td>\n",
       "      <td>X135</td>\n",
       "      <td>0.21</td>\n",
       "      <td>1.124</td>\n",
       "    </tr>\n",
       "    <tr>\n",
       "      <th>1</th>\n",
       "      <td>AAA</td>\n",
       "      <td>X126</td>\n",
       "      <td>0.21</td>\n",
       "      <td>1.179</td>\n",
       "    </tr>\n",
       "    <tr>\n",
       "      <th>2</th>\n",
       "      <td>EBHA</td>\n",
       "      <td>X195</td>\n",
       "      <td>0.32</td>\n",
       "      <td>1.191</td>\n",
       "    </tr>\n",
       "    <tr>\n",
       "      <th>3</th>\n",
       "      <td>EBHA</td>\n",
       "      <td>X194</td>\n",
       "      <td>0.82</td>\n",
       "      <td>1.249</td>\n",
       "    </tr>\n",
       "    <tr>\n",
       "      <th>4</th>\n",
       "      <td>AAA</td>\n",
       "      <td>X139</td>\n",
       "      <td>0.81</td>\n",
       "      <td>1.255</td>\n",
       "    </tr>\n",
       "  </tbody>\n",
       "</table>\n",
       "</div>"
      ],
      "text/plain": [
       "  Class PartNo     X      Y\n",
       "0   AAA   X135  0.21  1.124\n",
       "1   AAA   X126  0.21  1.179\n",
       "2  EBHA   X195  0.32  1.191\n",
       "3  EBHA   X194  0.82  1.249\n",
       "4   AAA   X139  0.81  1.255"
      ]
     },
     "execution_count": 4,
     "metadata": {},
     "output_type": "execute_result"
    }
   ],
   "source": [
    "programming[programming.columns[0].split('\\t')]=pd.DataFrame(programming[str(programming.columns[0])].apply(lambda x: x.split('\\t')).apply(pd.Series))\n",
    "programming=programming.drop(programming.columns[0],axis=1)\n",
    "programming.X=pd.to_numeric(programming.X)\n",
    "programming.Y=pd.to_numeric(programming.Y)\n",
    "programming.head()"
   ]
  },
  {
   "cell_type": "code",
   "execution_count": 17,
   "metadata": {},
   "outputs": [
    {
     "name": "stdout",
     "output_type": "stream",
     "text": [
      "   Stats          X         Y\n",
      "0    Min   0.210000  1.124000\n",
      "1   Mean   5.499100  3.525130\n",
      "2    Max  10.020000  7.498000\n",
      "3  GMean   4.495324  3.108310\n",
      "4    STD   2.672921  1.734591\n"
     ]
    }
   ],
   "source": [
    "stats={'Stats':['Min','Mean','Max','GMean','STD'],\n",
    "    'X':[programming.X.min(),programming.X.mean(),programming.X.max(),gmean(programming.X),programming.X.std()],\n",
    "    'Y':[programming.Y.min(),programming.Y.mean(),programming.Y.max(),gmean(programming.Y),programming.Y.std()]}\n",
    "stats=pd.DataFrame(stats)\n",
    "print(stats)"
   ]
  },
  {
   "cell_type": "code",
   "execution_count": 45,
   "metadata": {},
   "outputs": [],
   "source": [
    "import pyodbc \n",
    "from sqlalchemy import create_engine\n",
    "server='VIVEKA\\TTI'\n",
    "DB='pandas'\n",
    "connectionString = 'mssql+pyodbc://'+server+'/'+DB+'?driver=SQL Server'\n",
    "engine=create_engine(connectionString)\n",
    "programming.to_sql('programming',engine,if_exists='replace')"
   ]
  },
  {
   "cell_type": "code",
   "execution_count": 24,
   "metadata": {},
   "outputs": [
    {
     "data": {
      "image/png": "[encoded data removed]",
      "text/plain": [
       "<matplotlib.figure.Figure at 0x1a1ea9e1780>"
      ]
     },
     "metadata": {},
     "output_type": "display_data"
    }
   ],
   "source": [
    "plt.plot(programming.X,programming.Y,label='X')\n",
    "plt.ylabel('Y')\n",
    "plt.legend()\n",
    "plt.show()"
   ]
  },
  {
   "cell_type": "code",
   "execution_count": 28,
   "metadata": {},
   "outputs": [
    {
     "data": {
      "image/png": "[encoded data removed]",
      "text/plain": [
       "<matplotlib.figure.Figure at 0x1a1eaf4f588>"
      ]
     },
     "metadata": {},
     "output_type": "display_data"
    }
   ],
   "source": [
    "programming['X2']=programming.X**2\n",
    "plt.plot(programming.X2,programming.Y,label='X^2')\n",
    "plt.show()"
   ]
  },
  {
   "cell_type": "code",
   "execution_count": 49,
   "metadata": {},
   "outputs": [
    {
     "name": "stdout",
     "output_type": "stream",
     "text": [
      "                            OLS Regression Results                            \n",
      "==============================================================================\n",
      "Dep. Variable:                      Y   R-squared:                       0.998\n",
      "Model:                            OLS   Adj. R-squared:                  0.998\n",
      "Method:                 Least Squares   F-statistic:                 2.218e+04\n",
      "Date:                Thu, 01 Mar 2018   Prob (F-statistic):          8.59e-130\n",
      "Time:                        16:22:03   Log-Likelihood:                 109.91\n",
      "No. Observations:                 100   AIC:                            -213.8\n",
      "Df Residuals:                      97   BIC:                            -206.0\n",
      "Df Model:                           2                                         \n",
      "Covariance Type:            nonrobust                                         \n",
      "==============================================================================\n",
      "                 coef    std err          t      P>|t|      [0.025      0.975]\n",
      "------------------------------------------------------------------------------\n",
      "Intercept      1.3273      0.031     43.138      0.000       1.266       1.388\n",
      "X             -0.0120      0.013     -0.940      0.350      -0.037       0.013\n",
      "X2             0.0607      0.001     51.652      0.000       0.058       0.063\n",
      "==============================================================================\n",
      "Omnibus:                        1.658   Durbin-Watson:                   0.483\n",
      "Prob(Omnibus):                  0.436   Jarque-Bera (JB):                1.155\n",
      "Skew:                           0.235   Prob(JB):                        0.561\n",
      "Kurtosis:                       3.237   Cond. No.                         191.\n",
      "==============================================================================\n",
      "\n",
      "Warnings:\n",
      "[1] Standard Errors assume that the covariance matrix of the errors is correctly specified.\n"
     ]
    }
   ],
   "source": [
    "from sklearn import linear_model as lm\n",
    "from sklearn.metrics import mean_squared_error, r2_score\n",
    "import statsmodels.formula.api as smf\n",
    "model=smf.ols(formula='Y ~ X+X2', data=programming).fit()\n",
    "print(model.summary())"
   ]
  },
  {
   "cell_type": "code",
   "execution_count": 83,
   "metadata": {},
   "outputs": [
    {
     "name": "stdout",
     "output_type": "stream",
     "text": [
      "Mean Variance score: 0.997487446362\n"
     ]
    }
   ],
   "source": [
    "from sklearn.model_selection import train_test_split\n",
    "var_score=[]\n",
    "for i in range(10):\n",
    "    Train,Test = train_test_split(programming, test_size=0.2)\n",
    "    model = smf.ols(formula='Y ~ X+X2', data=Train).fit()\n",
    "    predictions=model.predict(Test)\n",
    "    # Explained variance score: 1 is perfect prediction\n",
    "    var_score.append(r2_score(Test.Y, predictions))\n",
    "\n",
    "    \n",
    "print('Mean Variance score:', sum(var_score)/10)"
   ]
  },
  {
   "cell_type": "code",
   "execution_count": 89,
   "metadata": {},
   "outputs": [
    {
     "data": {
      "image/png": "[encoded data removed]",
      "text/plain": [
       "<matplotlib.figure.Figure at 0x1a1ec314518>"
      ]
     },
     "metadata": {},
     "output_type": "display_data"
    }
   ],
   "source": [
    "plt.scatter(Test.Y,predictions)\n",
    "plt.xlabel('True Values')\n",
    "plt.ylabel('Predictions')\n",
    "plt.show()"
   ]
  }
 ],
 "metadata": {
  "kernelspec": {
   "display_name": "Python 3",
   "language": "python",
   "name": "python3"
  },
  "language_info": {
   "codemirror_mode": {
    "name": "ipython",
    "version": 3
   },
   "file_extension": ".py",
   "mimetype": "text/x-python",
   "name": "python",
   "nbconvert_exporter": "python",
   "pygments_lexer": "ipython3",
   "version": "3.6.3"
  }
 },
 "nbformat": 4,
 "nbformat_minor": 2
}
