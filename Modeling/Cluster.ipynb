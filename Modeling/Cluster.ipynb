{
 "cells": [
  {
   "cell_type": "code",
   "execution_count": null,
   "metadata": {
    "collapsed": true
   },
   "outputs": [],
   "source": [
    "#Cluster\n",
    "\n",
    "array=np.array(sorted(xls.Extended_cost.values.reshape(-1,1)))\n",
    "k=10\n",
    "n=len(array)\n",
    "ssm=np.zeros((n,k))\n",
    "cb=np.zeros((n,k))\n",
    "ss=array.cumsum()\n",
    "for i in range(n):\n",
    "    ssm[i,0]=(ss[i]**2)/(i+1)\n",
    "    if i<k:\n",
    "        ssm[i,i]=ssm[i,0]*(i+1)\n",
    "        cb[i,i]=i\n",
    "    cb[i,0]=0\n",
    "for j in range(1,k):\n",
    "    for i in range(j,n):\n",
    "        for p in range(j,i+1):\n",
    "            ssm_temp=ssm[p-1,j-1]+(ss[i]-ss[p-1])**2/(i-p+1)\n",
    "            if ssm_temp>ssm[i,j]:\n",
    "                ssm[i,j]=ssm_temp\n",
    "                cb[i,j]=p"
   ]
  }
 ],
 "metadata": {
  "kernelspec": {
   "display_name": "Python 3",
   "language": "python",
   "name": "python3"
  },
  "language_info": {
   "codemirror_mode": {
    "name": "ipython",
    "version": 3
   },
   "file_extension": ".py",
   "mimetype": "text/x-python",
   "name": "python",
   "nbconvert_exporter": "python",
   "pygments_lexer": "ipython3",
   "version": "3.6.3"
  }
 },
 "nbformat": 4,
 "nbformat_minor": 2
}
